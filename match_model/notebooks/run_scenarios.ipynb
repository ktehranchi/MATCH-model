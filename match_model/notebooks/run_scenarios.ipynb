{
 "cells": [
  {
   "cell_type": "markdown",
   "metadata": {},
   "source": [
    "This notebook can be used to run the simulation instead of having to type the commands into the command line interface"
   ]
  },
  {
   "cell_type": "code",
   "execution_count": null,
   "metadata": {},
   "outputs": [],
   "source": [
    "# Copyright (c) 2022 The MATCH Authors. All rights reserved.\n",
    "# Licensed under the GNU AFFERO GENERAL PUBLIC LICENSE Version 3 (or later), which is in the LICENSE file.\n",
    "\n",
    "import multiprocessing as mp\n",
    "import os\n",
    "from pathlib import Path\n",
    "import match_model.generate_input_files as generate_input_files\n",
    "import shutil\n",
    "import time\n",
    "from nb_utilities import refresh_folder"
   ]
  },
  {
   "cell_type": "markdown",
   "metadata": {},
   "source": [
    "# Enter the path to the folder where your model inputs are located\n",
    "Specify the location of the model runs folder you will be using, either as a relative filepath or an absolute filepath. The default location is the MODEL_RUNS directory within the Git repo\n"
   ]
  },
  {
   "cell_type": "code",
   "execution_count": null,
   "metadata": {},
   "outputs": [],
   "source": [
    "########################################################################\n",
    "model_run_location = '../../MODEL_RUNS/example'\n",
    "########################################################################\n",
    "\n",
    "# ensure that the filepath string uses forward slashes rather than backslashes\n",
    "model_run_location = model_run_location.replace(\"\\\\\", \"/\")\n",
    "\n",
    "# if the location is a relative filepath\n",
    "if \"../\" in model_run_location:\n",
    "    model_workspace = Path.cwd() / model_run_location\n",
    "# otherwise if it is an absoluate filepaht\n",
    "elif \":/\" in model_run_location:\n",
    "    model_workspace = Path(model_run_location)"
   ]
  },
  {
   "cell_type": "markdown",
   "metadata": {},
   "source": [
    "# Generate and Validate model inputs\n",
    "\n",
    "The following cell will load all of the input data from the `model_inputs.xlsx` file in your run folder, validate the inputs, and create all of the required input files in the format required by the solver. \n",
    "\n",
    "This cell will perform the following steps:  \n",
    "1. If input files do not yet exist, create them\n",
    "2. If input files exist, check that the current software version matches the version that was used to generate the inputs\n",
    "3. If the versions do not match, re-generate the input files to ensure consistency"
   ]
  },
  {
   "cell_type": "code",
   "execution_count": null,
   "metadata": {},
   "outputs": [],
   "source": [
    "# check if the directory exists\n",
    "if os.path.exists(model_workspace / \"inputs\"):\n",
    "    # check that an inputs version file exists\n",
    "    # list of files and folders to keep\n",
    "    keep_files = ['set_1','set_2','set_3', 'set_4', 'cbc', 'model_inputs.xlsx']\n",
    "    refresh_folder(model_workspace, keep_files=keep_files)\n",
    "\n",
    "    if os.path.exists(model_workspace / \"inputs_version.txt\"):\n",
    "        # get the version number\n",
    "        with open(model_workspace / \"inputs_version.txt\", \"r\") as i:\n",
    "            inputs_version = i.read()\n",
    "        # get the current version number\n",
    "        version_path = Path.cwd() / \"version.py\"\n",
    "        version = {}\n",
    "        with open(version_path) as f:\n",
    "            exec(f.read(), version)\n",
    "        version = version[\"__version__\"]\n",
    "        # check if the versions match\n",
    "        if version == inputs_version:\n",
    "            print(\n",
    "                f\"Input files already generated with current software version ({version})\"\n",
    "            )\n",
    "        else:\n",
    "            print(\n",
    "                f\"Inputs were generated using version {inputs_version}. Current version is {version}\"\n",
    "            )\n",
    "            print(\n",
    "                \"Removing old files and re-generating inputs with current version. Please wait...\"\n",
    "            )\n",
    "            old_files = os.listdir(model_workspace)\n",
    "            old_files.remove(\"model_inputs.xlsx\")\n",
    "            for f in old_files:\n",
    "                try:\n",
    "                    os.remove(model_workspace / f)\n",
    "                except PermissionError:\n",
    "                    shutil.rmtree(model_workspace / f)\n",
    "            generate_input_files.generate_inputs(model_workspace)\n",
    "    else:\n",
    "        generate_input_files.generate_inputs(model_workspace)\n",
    "# if the directory does not exist, generate the input files\n",
    "else:\n",
    "    print(\"Generating inputs now...\")\n",
    "    generate_input_files.generate_inputs(model_workspace)"
   ]
  },
  {
   "cell_type": "markdown",
   "metadata": {},
   "source": [
    "# Solve Model Scenarios"
   ]
  },
  {
   "cell_type": "markdown",
   "metadata": {},
   "source": [
    "## Windows Operating Systems:"
   ]
  },
  {
   "cell_type": "markdown",
   "metadata": {},
   "source": [
    "### Option 1: Run as many parallel threads as possible\n",
    "\n",
    "If you would like to run as many scenarios in parallel as your machine can support, run the following cell. \n",
    "\n",
    "This will identify how many processor cores (n) exist on your machine, and automatically run (n-1) scenarios (or the total number of scnearios, whichever is less). This should leave at least one core of your machine open for other tasks, but we still recommend that you close all other windows/processes before starting this option."
   ]
  },
  {
   "cell_type": "code",
   "execution_count": null,
   "metadata": {},
   "outputs": [],
   "source": [
    "num_processors = mp.cpu_count()\n",
    "print(f\"This machine has {num_processors} CPU cores\")\n",
    "# get the number of scenarios to run\n",
    "num_scenarios = len(os.listdir(model_workspace / \"inputs\"))\n",
    "print(f\"There are {num_scenarios} scenarios to run\")\n",
    "# determine how many threads to open\n",
    "parallel_threads = min(num_processors - 1, num_scenarios)\n",
    "print(f\"Running {parallel_threads} scenarios in parallel...\")\n",
    "i = 0\n",
    "while i < parallel_threads:\n",
    "    os.system(\n",
    "        f'start cmd /k \"cd {model_run_location} & activate match_model & match solve-scenarios\"'\n",
    "    )\n",
    "    time.sleep(2)\n",
    "    i += 1"
   ]
  },
  {
   "cell_type": "markdown",
   "metadata": {},
   "source": [
    "## Option 2: Start scenarios one at a time\n",
    "\n",
    "If you would like to only open a single solver window, run the following cell. Each time you run the following cell will open a new parallel solver."
   ]
  },
  {
   "cell_type": "code",
   "execution_count": null,
   "metadata": {},
   "outputs": [],
   "source": [
    "os.system(\n",
    "    f'start cmd /k \"cd {model_run_location} & activate match_model & match solve-scenarios\"'\n",
    ")"
   ]
  },
  {
   "cell_type": "markdown",
   "metadata": {},
   "source": [
    "## Running with Mac / Linux:"
   ]
  },
  {
   "cell_type": "markdown",
   "metadata": {},
   "source": [
    "Steps to run on mac:\n",
    "1. open Terminal, and navigate to the folder with the homework/model_inputs.xslx.\n",
    "2. Run `mamba activate match_model` \n",
    "3. run `match solve-scenarios`\n",
    "\n",
    "Your code may throw an error when generating summary reports. If this happens- you'll need to enter the {model_run_location} folder /inputs/{scenario_name}/summary_report.ipynb to run the python notebook to generate the report.\n",
    "\n",
    "If not you can open the summary_reports/ ...._.html file in a browser and investigate the results of your model run.\n",
    "\n"
   ]
  },
  {
   "cell_type": "markdown",
   "metadata": {},
   "source": []
  },
  {
   "cell_type": "markdown",
   "metadata": {},
   "source": [
    "# Helpers for Rerunning Model\n",
    "After you have run one scenario if you would like to rerun the scenario you will need to delete certain files.\n",
    "\n",
    "To regenerate the input dataset:"
   ]
  },
  {
   "cell_type": "code",
   "execution_count": null,
   "metadata": {},
   "outputs": [],
   "source": [
    "# list of files and folders to keep\n",
    "keep_files = ['set_1', 'cbc', 'model_inputs.xlsx']\n",
    "refresh_folder(model_workspace, keep_files=keep_files)"
   ]
  },
  {
   "cell_type": "markdown",
   "metadata": {},
   "source": [
    "To rerun the match_model solver.... ie to run \"match solve-scenarios\":"
   ]
  },
  {
   "cell_type": "code",
   "execution_count": null,
   "metadata": {},
   "outputs": [],
   "source": [
    "# list of files and folders to keep\n",
    "keep_files = ['cbc' , 'inputs_version.txt' , 'options.txt', 'set_1', 'inputs', 'model_inputs.xlsx', 'outputs', 'scenarios.txt', 'summary_reports' ]\n",
    "refresh_folder(model_workspace, keep_files=keep_files)"
   ]
  }
 ],
 "metadata": {
  "kernelspec": {
   "display_name": "match_model",
   "language": "python",
   "name": "python3"
  },
  "language_info": {
   "codemirror_mode": {
    "name": "ipython",
    "version": 3
   },
   "file_extension": ".py",
   "mimetype": "text/x-python",
   "name": "python",
   "nbconvert_exporter": "python",
   "pygments_lexer": "ipython3",
   "version": "3.10.12"
  },
  "orig_nbformat": 2,
  "vscode": {
   "interpreter": {
    "hash": "8cecdc9c333a4ce383aca35893f636cff64c1ebdad329fede1961e67663e09e7"
   }
  }
 },
 "nbformat": 4,
 "nbformat_minor": 2
}
